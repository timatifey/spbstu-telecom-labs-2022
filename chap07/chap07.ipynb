{
 "cells": [
  {
   "cell_type": "markdown",
   "metadata": {
    "id": "3P_o0qc0krs4"
   },
   "source": [
    "## Упражнение 7.2\n",
    "Реализовать быстрое преобразование Фурье (БПФ)"
   ]
  },
  {
   "cell_type": "code",
   "execution_count": 1,
   "metadata": {
    "id": "4C_Z1T9hjcSV"
   },
   "outputs": [],
   "source": [
    "import numpy as np\n",
    "PI2 = 2 * np.pi"
   ]
  },
  {
   "cell_type": "code",
   "execution_count": 2,
   "metadata": {
    "id": "49gGTSUhlGjI"
   },
   "outputs": [],
   "source": [
    "def dft(ys):\n",
    "    N = len(ys)\n",
    "    ts = np.arange(N) / N\n",
    "    freqs = np.arange(N)\n",
    "    args = np.outer(ts, freqs)\n",
    "    M = np.exp(1j * PI2 * args)\n",
    "    amps = M.conj().transpose().dot(ys)\n",
    "    return amps\n",
    "\n",
    "def my_fft(ys):\n",
    "    He = dft(ys[::2])\n",
    "    Ho = dft(ys[1::2])\n",
    "    ns = np.arange(len(ys))\n",
    "    W = np.exp(-1j * PI2 * ns / len(ys))\n",
    "    return np.tile(He, 2) + W * np.tile(Ho, 2)\n",
    "\n",
    "def my_recursive_fft(ys):\n",
    "    if len(ys) == 1:\n",
    "        return ys\n",
    "    He = my_fft(ys[::2])\n",
    "    Ho = my_fft(ys[1::2])\n",
    "    ns = np.arange(len(ys))\n",
    "    W = np.exp(-1j * PI2 * ns / len(ys))\n",
    "    return np.tile(He, 2) + W * np.tile(Ho, 2)"
   ]
  },
  {
   "cell_type": "markdown",
   "metadata": {
    "id": "u8Ih63q2k7bf"
   },
   "source": [
    "Для примера возьмём простой массив:"
   ]
  },
  {
   "cell_type": "code",
   "execution_count": 3,
   "metadata": {
    "colab": {
     "base_uri": "https://localhost:8080/"
    },
    "id": "dw4EAZwglBXs",
    "outputId": "1b753340-60ae-4434-dd5a-69898c46a134"
   },
   "outputs": [
    {
     "data": {
      "text/plain": [
       "array([-0.5+0.j ,  0.8+0.9j, -0.3+0.j ,  0.8-0.9j])"
      ]
     },
     "execution_count": 3,
     "metadata": {},
     "output_type": "execute_result"
    }
   ],
   "source": [
    "ys = [0.2,-0.5,-0.6, 0.4]\n",
    "hs = np.fft.fft(ys)\n",
    "hs"
   ]
  },
  {
   "cell_type": "code",
   "execution_count": 4,
   "metadata": {
    "colab": {
     "base_uri": "https://localhost:8080/"
    },
    "id": "ioXZ3lYllMO6",
    "outputId": "d66621d8-f101-4df0-972a-5dd5e5eabf1b"
   },
   "outputs": [
    {
     "data": {
      "text/plain": [
       "array([-0.5+0.00000000e+00j,  0.8+9.00000000e-01j, -0.3-2.32682892e-16j,\n",
       "        0.8-9.00000000e-01j])"
      ]
     },
     "execution_count": 4,
     "metadata": {},
     "output_type": "execute_result"
    }
   ],
   "source": [
    "dft(ys)"
   ]
  },
  {
   "cell_type": "markdown",
   "metadata": {
    "id": "Jn19MSaZlO1Y"
   },
   "source": [
    "Разделим массив:"
   ]
  },
  {
   "cell_type": "code",
   "execution_count": 5,
   "metadata": {
    "colab": {
     "base_uri": "https://localhost:8080/"
    },
    "id": "XdpahQL7lQLq",
    "outputId": "61f4bc72-4134-4ed6-c174-b71f39738b52"
   },
   "outputs": [
    {
     "data": {
      "text/plain": [
       "([0.2, -0.6], [-0.5, 0.4])"
      ]
     },
     "execution_count": 5,
     "metadata": {},
     "output_type": "execute_result"
    }
   ],
   "source": [
    "ys[::2] , ys[1::2]"
   ]
  },
  {
   "cell_type": "markdown",
   "metadata": {
    "id": "ccnVSGWFlVRY"
   },
   "source": [
    "Используем нерекурсивный метод:"
   ]
  },
  {
   "cell_type": "code",
   "execution_count": 6,
   "metadata": {
    "colab": {
     "base_uri": "https://localhost:8080/"
    },
    "id": "HhXd1UjYlXnE",
    "outputId": "e8653df0-b526-4da9-c31f-b154504ad50b"
   },
   "outputs": [
    {
     "data": {
      "text/plain": [
       "array([-0.5+0.0000000e+00j,  0.8+9.0000000e-01j, -0.3+1.2246468e-17j,\n",
       "        0.8-9.0000000e-01j])"
      ]
     },
     "execution_count": 6,
     "metadata": {},
     "output_type": "execute_result"
    }
   ],
   "source": [
    "my_fft(ys)"
   ]
  },
  {
   "cell_type": "markdown",
   "metadata": {
    "id": "uAJMeyUplfvP"
   },
   "source": [
    "Теперь будем использовать рекурсивный метод:"
   ]
  },
  {
   "cell_type": "code",
   "execution_count": 7,
   "metadata": {
    "colab": {
     "base_uri": "https://localhost:8080/"
    },
    "id": "vMXbPhcxlfiT",
    "outputId": "fa086130-2fc7-4778-c710-a030576a3ae6"
   },
   "outputs": [
    {
     "data": {
      "text/plain": [
       "array([-0.5+0.0000000e+00j,  0.8+9.0000000e-01j, -0.3+1.2246468e-17j,\n",
       "        0.8-9.0000000e-01j])"
      ]
     },
     "execution_count": 7,
     "metadata": {},
     "output_type": "execute_result"
    }
   ],
   "source": [
    "my_recursive_fft(ys)"
   ]
  },
  {
   "cell_type": "markdown",
   "metadata": {
    "id": "efGW2iN6mfY1"
   },
   "source": [
    "Все результаты реализаций полностью сошлись!"
   ]
  }
 ],
 "metadata": {
  "colab": {
   "collapsed_sections": [],
   "name": "chap07.ipynb",
   "provenance": []
  },
  "kernelspec": {
   "display_name": "Python 3 (ipykernel)",
   "language": "python",
   "name": "python3"
  },
  "language_info": {
   "codemirror_mode": {
    "name": "ipython",
    "version": 3
   },
   "file_extension": ".py",
   "mimetype": "text/x-python",
   "name": "python",
   "nbconvert_exporter": "python",
   "pygments_lexer": "ipython3",
   "version": "3.9.7"
  }
 },
 "nbformat": 4,
 "nbformat_minor": 1
}
